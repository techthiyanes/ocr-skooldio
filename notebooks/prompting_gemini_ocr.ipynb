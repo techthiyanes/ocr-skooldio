{
 "cells": [
  {
   "cell_type": "markdown",
   "id": "806f4d92",
   "metadata": {},
   "source": [
    "## **Prompting with Gemini**"
   ]
  },
  {
   "cell_type": "code",
   "execution_count": 1,
   "id": "e877876a",
   "metadata": {},
   "outputs": [],
   "source": [
    "from google.oauth2 import service_account\n",
    "from google.cloud import aiplatform\n",
    "from vertexai.generative_models import GenerativeModel, Part, Image\n",
    "\n",
    "project_name = \"<project-name>\" # ใส่ชื่อ project ที่นี้ ดูชื่อ project name ได้จาก JSON file ที่โหลดมา\n",
    "credentials = service_account.Credentials.from_service_account_file(\"<path>\") # ใส่ path ไปยัง JSON file ที่นี่\n",
    "aiplatform.init(project=project_name, credentials=credentials)"
   ]
  },
  {
   "cell_type": "code",
   "execution_count": 3,
   "id": "0b2e0d9f",
   "metadata": {},
   "outputs": [],
   "source": [
    "def get_response(prompt, model_name=\"gemini-1.5-flash\"):\n",
    "    \"\"\"\n",
    "    ฟังก์ชันสำหรับรับคำตอบจากโมเดล AI\n",
    "    \n",
    "    Args:\n",
    "    prompt (str): คำถามหรือข้อความที่ต้องการให้ AI ตอบ\n",
    "    model_name (str): ชื่อของโมเดลที่ต้องการใช้ (ค่าเริ่มต้นคือ \"gemini-1.5-flash\")\n",
    "    \n",
    "    Returns:\n",
    "    str: ข้อความตอบกลับจาก AI\n",
    "    \"\"\"\n",
    "    model = GenerativeModel(model_name)\n",
    "    response = model.generate_content(prompt)\n",
    "    return response.text"
   ]
  },
  {
   "cell_type": "code",
   "execution_count": 4,
   "id": "70639d33",
   "metadata": {},
   "outputs": [
    {
     "name": "stdout",
     "output_type": "stream",
     "text": [
      "The sky appears blue due to a phenomenon called **Rayleigh scattering**. Here's the breakdown:\n",
      "\n",
      "* **Sunlight is made up of all colors of the rainbow.**  This is called the visible light spectrum.\n",
      "* **When sunlight enters the Earth's atmosphere, it interacts with the tiny molecules of air.** These molecules are much smaller than the wavelengths of visible light.\n",
      "* **This interaction causes the light to scatter in all directions.** This scattering is more pronounced for shorter wavelengths of light, like blue and violet.\n",
      "* **Blue light is scattered more than other colors because it has a shorter wavelength.** This scattered blue light reaches our eyes from all directions, making the sky appear blue.\n",
      "\n",
      "**Here's a simple analogy:** Imagine shining a flashlight through a glass of milk. The light scatters and the milk appears white. Similarly, sunlight scatters off the air molecules, making the sky appear blue.\n",
      "\n",
      "**Why isn't the sky violet?**\n",
      "\n",
      "While violet light is scattered even more than blue, our eyes are more sensitive to blue light. Therefore, we perceive the sky as blue.\n",
      "\n",
      "**Other factors that affect the color of the sky:**\n",
      "\n",
      "* **Time of day:** The sky appears more vibrant blue at noon when the sun is high in the sky. At sunrise and sunset, the light travels through more air, scattering more blue light, and leaving behind the longer wavelengths, which appear red and orange.\n",
      "* **Clouds:** Clouds reflect sunlight, making the sky appear white or gray.\n",
      "* **Pollution:** Air pollution can also affect the color of the sky, making it appear hazy or even reddish.\n",
      "\n"
     ]
    }
   ],
   "source": [
    "print(get_response(\"Why is sky blue?\"))"
   ]
  },
  {
   "cell_type": "markdown",
   "id": "2fdef518",
   "metadata": {},
   "source": [
    "## **Prompt Engineering**\n",
    "\n",
    "Prompt ที่ดีควรจะมีส่วนประกอบดังนี้\n",
    "- Instruction : งานหรือคำสั่งที่ต้องการให้โมเดลทำ\n",
    "- Context : ข้อมูลภายนอกหรือบริบทเพิ่มเติมที่ช่วยให้โมเดลตอบได้ดีขึ้น\n",
    "- Input ข้อมูลหรือคำถามที่เราสนใจหาคำตอบ\n",
    "- Output Indicator : ประเภทหรือรูปแบบของผลลัพธ์ที่ต้องการ เช่น Tone, Length, Style\n",
    "\n",
    "ref: https://www.promptingguide.ai/introduction/elements"
   ]
  },
  {
   "cell_type": "code",
   "execution_count": 5,
   "id": "52eec981",
   "metadata": {},
   "outputs": [
    {
     "name": "stdout",
     "output_type": "stream",
     "text": [
      "## 5 Stunning Campaign Ideas for Your Product Launch:\n",
      "\n",
      "**1. The \"Mystery Box\" Campaign:**\n",
      "\n",
      "* **Concept:** Create a sense of anticipation and excitement by offering a limited-edition \"Mystery Box\" filled with your product, samples, and exclusive goodies. \n",
      "* **Execution:**  \n",
      "    * Run a contest on social media where people can win a Mystery Box.\n",
      "    * Offer a limited-time discount on Mystery Boxes purchased directly from your website.\n",
      "    * Highlight the value of the Mystery Box by revealing its contents through captivating videos and photos on social media.\n",
      "\n",
      "**2. The \"Community Challenge\" Campaign:**\n",
      "\n",
      "* **Concept:**  Engage your target audience and create a buzz by launching a challenge using your product.\n",
      "* **Execution:** \n",
      "    * Develop a fun and creative challenge related to your product's features or benefits.\n",
      "    * Encourage users to participate by sharing their entries on social media with a specific hashtag.\n",
      "    * Partner with influencers or brand ambassadors to promote the challenge and showcase their participation.\n",
      "    * Offer prizes for the most creative and engaging entries.\n",
      "\n",
      "**3. The \"Behind-the-Scenes\" Campaign:**\n",
      "\n",
      "* **Concept:**  Build trust and transparency by taking your audience on a journey behind the scenes of your product development and creation.\n",
      "* **Execution:**\n",
      "    * Share exclusive content showcasing the design process, manufacturing, and testing phases. \n",
      "    * Host live Q&A sessions with your team and experts involved in the product creation.\n",
      "    *  Use a \"day-in-the-life\" format to showcase the people and passion behind your product.\n",
      "\n",
      "**4. The \"Interactive Story\" Campaign:**\n",
      "\n",
      "* **Concept:**  Capture attention and create a lasting impression with an interactive storytelling campaign that leverages your product's unique features and benefits.\n",
      "* **Execution:**\n",
      "    * Develop a captivating story centered around your product, using engaging visuals and immersive content.\n",
      "    * Incorporate interactive elements like quizzes, polls, and AR filters to keep users engaged and involved.\n",
      "    * Partner with a storytelling platform or app to amplify the campaign's reach and engagement.\n",
      "\n",
      "**5. The \"Personalized Experience\" Campaign:**\n",
      "\n",
      "* **Concept:**  Create a unique and memorable launch experience by personalizing the product and its presentation for each customer.\n",
      "* **Execution:**\n",
      "    * Offer customized packaging options, engraving, or personalization services.\n",
      "    * Create a personalized welcome message or letter for each customer, incorporating their name or specific interests.\n",
      "    *  Develop a unique online experience or landing page that reflects the customer's individual preferences.\n",
      "\n",
      "Remember to tailor these campaign ideas to your specific product, target audience, and budget. Don't be afraid to get creative and explore new ways to engage your audience and make your product launch a success.\n"
     ]
    }
   ],
   "source": [
    "# TODOs\n",
    "response = get_response(\"Could you list down 5 stunning campaings ideas for my new product launch?\")\n",
    "print(response)"
   ]
  },
  {
   "cell_type": "markdown",
   "id": "e4a51e01",
   "metadata": {},
   "source": [
    "## **Multimodal Prompting with Gemini**\n",
    "\n",
    "เราสามารถใช้ Multimodal capability ของ Gemini เพื่อใช้ทำ OCR แบบรวดเร็วเพื่อวัดผลเบื่้องต้นได้\n",
    "\n",
    "อ่านเพิ่มเติม:\n",
    "- https://cloud.google.com/vertex-ai/generative-ai/docs/samples/generativeaionvertexai-gemini-all-modalities#generativeaionvertexai_gemini_all_modalities-python\n",
    "- https://cloud.google.com/vertex-ai/generative-ai/docs/reference/python/latest/vertexai.vision_models.Image"
   ]
  },
  {
   "cell_type": "code",
   "execution_count": 13,
   "id": "d0280412",
   "metadata": {},
   "outputs": [],
   "source": [
    "def get_response_with_image(prompt, image_path, model_name=\"gemini-pro-vision\"):\n",
    "    \"\"\"\n",
    "    ฟังก์ชันสำหรับรับคำตอบจากโมเดล AI โดยใช้รูปภาพประกอบ\n",
    "    \n",
    "    Args:\n",
    "    prompt (str): คำถามหรือข้อความที่ต้องการให้ AI ตอบ\n",
    "    image_path (str): พาธของไฟล์รูปภาพ\n",
    "    model_name (str): ชื่อของโมเดลที่ต้องการใช้ (ค่าเริ่มต้นคือ \"gemini-pro-vision\")\n",
    "    \n",
    "    Returns:\n",
    "    str: ข้อความตอบกลับจาก AI\n",
    "    \"\"\"\n",
    "\n",
    "    model = GenerativeModel(model_name)\n",
    "    image = Image.load_from_file(image_path)\n",
    "\n",
    "    # สร้างคำตอบจากโมเดล\n",
    "    response = model.generate_content([image, prompt])\n",
    "    \n",
    "    return response.text"
   ]
  },
  {
   "cell_type": "code",
   "execution_count": null,
   "id": "611c9a65",
   "metadata": {},
   "outputs": [],
   "source": [
    "prompt = \"\"\"\n",
    "Perform optical character information and export in the following JSON format.\n",
    "\n",
    "{\n",
    "  tax_id: str,\n",
    "  pos_id: str,\n",
    "  tel_number: str,\n",
    "  date: str,\n",
    "  recepit_number: str,\n",
    "  items: list[name, float],\n",
    "  price_before_vat: float,\n",
    "  total_price: float,\n",
    "  vat_7_percent: float,\n",
    "  earn_point: float\n",
    "}\n",
    "\"\"\"\n",
    "\n",
    "answer = get_response_with_image(prompt, \"../assets/seki_example.jpg\")\n",
    "print(answer)"
   ]
  }
 ],
 "metadata": {
  "kernelspec": {
   "display_name": "Python 3",
   "language": "python",
   "name": "python3"
  },
  "language_info": {
   "codemirror_mode": {
    "name": "ipython",
    "version": 3
   },
   "file_extension": ".py",
   "mimetype": "text/x-python",
   "name": "python",
   "nbconvert_exporter": "python",
   "pygments_lexer": "ipython3",
   "version": "3.8.8"
  }
 },
 "nbformat": 4,
 "nbformat_minor": 5
}
